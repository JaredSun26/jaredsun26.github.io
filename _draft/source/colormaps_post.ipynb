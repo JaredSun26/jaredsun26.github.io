{
 "cells": [
  {
   "cell_type": "markdown",
   "metadata": {},
   "source": [
    "# A Nice Presentation on Choice of Color Maps"
   ]
  },
  {
   "cell_type": "markdown",
   "metadata": {},
   "source": [
    "I recently started to step out my comfort zone and learn Python throughoutly. While playing with matplotlib module, I noticed the upcoming chances in matplotlib 2.0 regarding default styles. The new default color map will be \"viridis\" instead of \"jet\". The [presentation](https://www.youtube.com/watch?v=xAoljeRJ3lU) by Nathaniel Smith and Stefan van der Walt are very helpful and informative. "
   ]
  },
  {
   "cell_type": "markdown",
   "metadata": {},
   "source": [
    "This amazing talk explained the decision procedures to choose \"viridis\" over \"jet\" based on the color theory. The designers considered the following principles for a 'good' color map:\n",
    "* Colorful\n",
    "* Pretty\n",
    "* Sequential\n",
    "* Accurately represent the data (\"perceptually uniform\")\n",
    "* ...even if printed in black-and-white\n",
    "* Accessible to colorblind viewers\n"
   ]
  },
  {
   "cell_type": "markdown",
   "metadata": {},
   "source": [
    "The last four principels are very tricky and they have done a great job implementing them. The two color maps are compared here:"
   ]
  },
  {
   "cell_type": "code",
   "execution_count": 1,
   "metadata": {
    "collapsed": false,
    "scrolled": true
   },
   "outputs": [
    {
     "data": {
      "image/png": "[encoded data removed]",
      "text/plain": [
       "<matplotlib.figure.Figure at 0x5e5c208>"
      ]
     },
     "metadata": {},
     "output_type": "display_data"
    }
   ],
   "source": [
    "import numpy as np\n",
    "import matplotlib.pyplot as plt\n",
    "%matplotlib inline  \n",
    "nrows = 2\n",
    "gradient = np.linspace(0, 1, 256)\n",
    "gradient = np.vstack((gradient, gradient))\n",
    "cmap_list=['jet','viridis']\n",
    "\n",
    "def plot_color_gradients(cmap_list, nrows):\n",
    "    fig, axes = plt.subplots(nrows=nrows)\n",
    "    fig.subplots_adjust(top=0.95, bottom=0.01, left=0.2, right=0.99)\n",
    "\n",
    "    for i in [0,1]:\n",
    "        axes[i].imshow(gradient, aspect='auto', cmap = cmap_list[i])\n",
    "        pos = list(axes[i].get_position().bounds)\n",
    "        x_text = pos[0] - 0.01\n",
    "        y_text = pos[1] + pos[3]/2.\n",
    "        fig.text(x_text, y_text, cmap_list[i], va='center', ha='right', fontsize=10)\n",
    "\n",
    "    # Turn off *all* ticks & spines, not just the ones with colormaps.\n",
    "    for ax in axes:\n",
    "        ax.set_axis_off()\n",
    "\n",
    "plot_color_gradients(cmap_list, nrows)\n",
    "\n",
    "plt.show()"
   ]
  }
 ],
 "metadata": {
  "kernelspec": {
   "display_name": "Python [Root]",
   "language": "python",
   "name": "Python [Root]"
  },
  "language_info": {
   "codemirror_mode": {
    "name": "ipython",
    "version": 3
   },
   "file_extension": ".py",
   "mimetype": "text/x-python",
   "name": "python",
   "nbconvert_exporter": "python",
   "pygments_lexer": "ipython3",
   "version": "3.5.2"
  }
 },
 "nbformat": 4,
 "nbformat_minor": 0
}
